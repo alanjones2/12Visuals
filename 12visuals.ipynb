{
 "cells": [
  {
   "cell_type": "code",
   "execution_count": 1,
   "metadata": {},
   "outputs": [
    {
     "data": {
      "text/plain": [
       "<AxesSubplot:>"
      ]
     },
     "execution_count": 1,
     "metadata": {},
     "output_type": "execute_result"
    },
    {
     "data": {
      "image/png": "[encoded data removed]",
      "text/plain": [
       "<Figure size 432x288 with 1 Axes>"
      ]
     },
     "metadata": {
      "needs_background": "light"
     },
     "output_type": "display_data"
    }
   ],
   "source": [
    "import pandas as pd\n",
    "\n",
    "temps = pd.DataFrame()\n",
    "temps['Day'] = ('Yesterday', 'Today')\n",
    "temps['Temperature'] = (24,29)\n",
    "\n",
    "temps.plot()"
   ]
  },
  {
   "cell_type": "code",
   "execution_count": 2,
   "metadata": {},
   "outputs": [
    {
     "data": {
      "text/html": [
       "<div>\n",
       "<style scoped>\n",
       "    .dataframe tbody tr th:only-of-type {\n",
       "        vertical-align: middle;\n",
       "    }\n",
       "\n",
       "    .dataframe tbody tr th {\n",
       "        vertical-align: top;\n",
       "    }\n",
       "\n",
       "    .dataframe thead th {\n",
       "        text-align: right;\n",
       "    }\n",
       "</style>\n",
       "<table border=\"1\" class=\"dataframe\">\n",
       "  <thead>\n",
       "    <tr style=\"text-align: right;\">\n",
       "      <th></th>\n",
       "      <th>Year</th>\n",
       "      <th>Month</th>\n",
       "      <th>Tmax</th>\n",
       "      <th>Tmin</th>\n",
       "      <th>Rain</th>\n",
       "      <th>Sun</th>\n",
       "    </tr>\n",
       "  </thead>\n",
       "  <tbody>\n",
       "    <tr>\n",
       "      <th>0</th>\n",
       "      <td>2018</td>\n",
       "      <td>1</td>\n",
       "      <td>9.7</td>\n",
       "      <td>3.8</td>\n",
       "      <td>58.0</td>\n",
       "      <td>46.5</td>\n",
       "    </tr>\n",
       "    <tr>\n",
       "      <th>1</th>\n",
       "      <td>2018</td>\n",
       "      <td>2</td>\n",
       "      <td>6.7</td>\n",
       "      <td>0.6</td>\n",
       "      <td>29.0</td>\n",
       "      <td>92.0</td>\n",
       "    </tr>\n",
       "    <tr>\n",
       "      <th>2</th>\n",
       "      <td>2018</td>\n",
       "      <td>3</td>\n",
       "      <td>9.8</td>\n",
       "      <td>3.0</td>\n",
       "      <td>81.2</td>\n",
       "      <td>70.3</td>\n",
       "    </tr>\n",
       "    <tr>\n",
       "      <th>3</th>\n",
       "      <td>2018</td>\n",
       "      <td>4</td>\n",
       "      <td>15.5</td>\n",
       "      <td>7.9</td>\n",
       "      <td>65.2</td>\n",
       "      <td>113.4</td>\n",
       "    </tr>\n",
       "    <tr>\n",
       "      <th>4</th>\n",
       "      <td>2018</td>\n",
       "      <td>5</td>\n",
       "      <td>20.8</td>\n",
       "      <td>9.8</td>\n",
       "      <td>58.4</td>\n",
       "      <td>248.3</td>\n",
       "    </tr>\n",
       "    <tr>\n",
       "      <th>5</th>\n",
       "      <td>2018</td>\n",
       "      <td>6</td>\n",
       "      <td>24.2</td>\n",
       "      <td>13.1</td>\n",
       "      <td>0.4</td>\n",
       "      <td>234.5</td>\n",
       "    </tr>\n",
       "    <tr>\n",
       "      <th>6</th>\n",
       "      <td>2018</td>\n",
       "      <td>7</td>\n",
       "      <td>28.3</td>\n",
       "      <td>16.4</td>\n",
       "      <td>14.8</td>\n",
       "      <td>272.5</td>\n",
       "    </tr>\n",
       "    <tr>\n",
       "      <th>7</th>\n",
       "      <td>2018</td>\n",
       "      <td>8</td>\n",
       "      <td>24.5</td>\n",
       "      <td>14.5</td>\n",
       "      <td>48.2</td>\n",
       "      <td>182.1</td>\n",
       "    </tr>\n",
       "    <tr>\n",
       "      <th>8</th>\n",
       "      <td>2018</td>\n",
       "      <td>9</td>\n",
       "      <td>20.9</td>\n",
       "      <td>11.0</td>\n",
       "      <td>29.4</td>\n",
       "      <td>195.0</td>\n",
       "    </tr>\n",
       "    <tr>\n",
       "      <th>9</th>\n",
       "      <td>2018</td>\n",
       "      <td>10</td>\n",
       "      <td>16.5</td>\n",
       "      <td>8.5</td>\n",
       "      <td>61.0</td>\n",
       "      <td>137.0</td>\n",
       "    </tr>\n",
       "    <tr>\n",
       "      <th>10</th>\n",
       "      <td>2018</td>\n",
       "      <td>11</td>\n",
       "      <td>12.2</td>\n",
       "      <td>5.8</td>\n",
       "      <td>73.8</td>\n",
       "      <td>72.9</td>\n",
       "    </tr>\n",
       "    <tr>\n",
       "      <th>11</th>\n",
       "      <td>2018</td>\n",
       "      <td>12</td>\n",
       "      <td>10.7</td>\n",
       "      <td>5.2</td>\n",
       "      <td>60.6</td>\n",
       "      <td>40.3</td>\n",
       "    </tr>\n",
       "  </tbody>\n",
       "</table>\n",
       "</div>"
      ],
      "text/plain": [
       "    Year  Month  Tmax  Tmin  Rain    Sun\n",
       "0   2018      1   9.7   3.8  58.0   46.5\n",
       "1   2018      2   6.7   0.6  29.0   92.0\n",
       "2   2018      3   9.8   3.0  81.2   70.3\n",
       "3   2018      4  15.5   7.9  65.2  113.4\n",
       "4   2018      5  20.8   9.8  58.4  248.3\n",
       "5   2018      6  24.2  13.1   0.4  234.5\n",
       "6   2018      7  28.3  16.4  14.8  272.5\n",
       "7   2018      8  24.5  14.5  48.2  182.1\n",
       "8   2018      9  20.9  11.0  29.4  195.0\n",
       "9   2018     10  16.5   8.5  61.0  137.0\n",
       "10  2018     11  12.2   5.8  73.8   72.9\n",
       "11  2018     12  10.7   5.2  60.6   40.3"
      ]
     },
     "execution_count": 2,
     "metadata": {},
     "output_type": "execute_result"
    },
    {
     "data": {
      "image/png": "[encoded data removed]",
      "text/plain": [
       "<Figure size 432x288 with 1 Axes>"
      ]
     },
     "metadata": {
      "needs_background": "light"
     },
     "output_type": "display_data"
    }
   ],
   "source": [
    "weather =  pd.read_csv('data/london2018.csv')\n",
    "\n",
    "weather.plot(x='Month', y = 'Tmax')\n",
    "weather"
   ]
  }
 ],
 "metadata": {
  "kernelspec": {
   "display_name": "Python 3.9.8 64-bit",
   "language": "python",
   "name": "python3"
  },
  "language_info": {
   "codemirror_mode": {
    "name": "ipython",
    "version": 3
   },
   "file_extension": ".py",
   "mimetype": "text/x-python",
   "name": "python",
   "nbconvert_exporter": "python",
   "pygments_lexer": "ipython3",
   "version": "3.9.8"
  },
  "orig_nbformat": 4,
  "vscode": {
   "interpreter": {
    "hash": "a8a7bd8979a4457ff10482144eb93e8faf46b7074b382aab52ae0a11e763accd"
   }
  }
 },
 "nbformat": 4,
 "nbformat_minor": 2
}
