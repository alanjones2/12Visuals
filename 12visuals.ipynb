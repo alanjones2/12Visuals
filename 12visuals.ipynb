{
 "cells": [
  {
   "cell_type": "markdown",
   "metadata": {},
   "source": [
    "# 12 Essential Visuals"
   ]
  },
  {
   "cell_type": "code",
   "execution_count": 139,
   "metadata": {},
   "outputs": [],
   "source": [
    "import pandas as pd\n",
    "import matplotlib.pyplot as plt"
   ]
  },
  {
   "cell_type": "markdown",
   "metadata": {},
   "source": [
    "## Simple text\n",
    "London Maximum Temperatures in July - 2022 v. 2012"
   ]
  },
  {
   "cell_type": "code",
   "execution_count": 140,
   "metadata": {},
   "outputs": [],
   "source": [
    "# Set up variables\n",
    "years = ['2012','2022']\n",
    "temps = [24.2,27.2]\n",
    "caption = f\"The maximum temperature in July 2022 was {temps[1]}°C\"\n",
    "caption2 =  f\"That's {temps[1]-temps[0]}° up from 2012\""
   ]
  },
  {
   "cell_type": "code",
   "execution_count": 141,
   "metadata": {},
   "outputs": [
    {
     "data": {
      "image/png": "[encoded data removed]",
      "text/plain": [
       "<Figure size 360x72 with 1 Axes>"
      ]
     },
     "metadata": {
      "needs_background": "light"
     },
     "output_type": "display_data"
    }
   ],
   "source": [
    "fig2, ax2 = plt.subplots(figsize=(5,1))\n",
    "\n",
    "ax2.text(0, 0.9, temps[1],\n",
    "        verticalalignment='top', horizontalalignment='left',\n",
    "        color='red', fontsize=18, fontweight = 'bold')\n",
    "ax2.text(0.2, 0.9, caption,\n",
    "        verticalalignment='top', horizontalalignment='left',\n",
    "        color='Black', fontsize=10)\n",
    "ax2.text(0.2, 0.55, caption2,\n",
    "        verticalalignment='top', horizontalalignment='left',\n",
    "        color='darkgrey', fontsize=6)\n",
    "\n",
    "ax2.axis('off')\n",
    "\n",
    "plt.show()"
   ]
  },
  {
   "cell_type": "code",
   "execution_count": 142,
   "metadata": {},
   "outputs": [
    {
     "data": {
      "image/png": "[encoded data removed]",
      "text/plain": [
       "<Figure size 288x144 with 1 Axes>"
      ]
     },
     "metadata": {
      "needs_background": "light"
     },
     "output_type": "display_data"
    }
   ],
   "source": [
    "fig3, ax3 = plt.subplots(figsize=(4,2))\n",
    "\n",
    "ax3.text(0.5, 0.9, temps[1],\n",
    "        verticalalignment='top', horizontalalignment='center',\n",
    "        color='darkblue', fontsize=64, fontweight = 'bold')\n",
    "ax3.text(0.5, 0.3, caption,\n",
    "        verticalalignment='top', horizontalalignment='center',\n",
    "        color='blue', fontsize=8)\n",
    "ax3.text(0.5, 0.2, caption2,\n",
    "        verticalalignment='top', horizontalalignment='center',\n",
    "        color='lightblue', fontsize=6)\n",
    "\n",
    "ax3.axis('off')\n",
    "\n",
    "plt.show(fig3)"
   ]
  },
  {
   "cell_type": "markdown",
   "metadata": {},
   "source": [
    "# Table"
   ]
  },
  {
   "cell_type": "code",
   "execution_count": 143,
   "metadata": {},
   "outputs": [
    {
     "data": {
      "text/html": [
       "<div>\n",
       "<style scoped>\n",
       "    .dataframe tbody tr th:only-of-type {\n",
       "        vertical-align: middle;\n",
       "    }\n",
       "\n",
       "    .dataframe tbody tr th {\n",
       "        vertical-align: top;\n",
       "    }\n",
       "\n",
       "    .dataframe thead th {\n",
       "        text-align: right;\n",
       "    }\n",
       "</style>\n",
       "<table border=\"1\" class=\"dataframe\">\n",
       "  <thead>\n",
       "    <tr style=\"text-align: right;\">\n",
       "      <th></th>\n",
       "      <th>Year</th>\n",
       "      <th>Temperature</th>\n",
       "    </tr>\n",
       "  </thead>\n",
       "  <tbody>\n",
       "    <tr>\n",
       "      <th>0</th>\n",
       "      <td>2012</td>\n",
       "      <td>24.2</td>\n",
       "    </tr>\n",
       "    <tr>\n",
       "      <th>1</th>\n",
       "      <td>2022</td>\n",
       "      <td>27.2</td>\n",
       "    </tr>\n",
       "  </tbody>\n",
       "</table>\n",
       "</div>"
      ],
      "text/plain": [
       "   Year  Temperature\n",
       "0  2012         24.2\n",
       "1  2022         27.2"
      ]
     },
     "execution_count": 143,
     "metadata": {},
     "output_type": "execute_result"
    }
   ],
   "source": [
    "temps = pd.DataFrame()\n",
    "temps['Year'] = ('2012', '2022')\n",
    "temps['Temperature'] = (24.2,27.2)\n",
    "\n",
    "temps"
   ]
  },
  {
   "cell_type": "markdown",
   "metadata": {},
   "source": [
    "# Heatmap"
   ]
  },
  {
   "cell_type": "code",
   "execution_count": 144,
   "metadata": {},
   "outputs": [
    {
     "data": {
      "text/html": [
       "<div>\n",
       "<style scoped>\n",
       "    .dataframe tbody tr th:only-of-type {\n",
       "        vertical-align: middle;\n",
       "    }\n",
       "\n",
       "    .dataframe tbody tr th {\n",
       "        vertical-align: top;\n",
       "    }\n",
       "\n",
       "    .dataframe thead th {\n",
       "        text-align: right;\n",
       "    }\n",
       "</style>\n",
       "<table border=\"1\" class=\"dataframe\">\n",
       "  <thead>\n",
       "    <tr style=\"text-align: right;\">\n",
       "      <th></th>\n",
       "      <th>1880</th>\n",
       "      <th>1890</th>\n",
       "      <th>1900</th>\n",
       "      <th>1910</th>\n",
       "      <th>1920</th>\n",
       "      <th>1930</th>\n",
       "      <th>1940</th>\n",
       "      <th>1950</th>\n",
       "      <th>1960</th>\n",
       "      <th>1970</th>\n",
       "      <th>1980</th>\n",
       "      <th>1990</th>\n",
       "      <th>2000</th>\n",
       "      <th>2010</th>\n",
       "      <th>2020</th>\n",
       "    </tr>\n",
       "    <tr>\n",
       "      <th>Year</th>\n",
       "      <th></th>\n",
       "      <th></th>\n",
       "      <th></th>\n",
       "      <th></th>\n",
       "      <th></th>\n",
       "      <th></th>\n",
       "      <th></th>\n",
       "      <th></th>\n",
       "      <th></th>\n",
       "      <th></th>\n",
       "      <th></th>\n",
       "      <th></th>\n",
       "      <th></th>\n",
       "      <th></th>\n",
       "      <th></th>\n",
       "    </tr>\n",
       "  </thead>\n",
       "  <tbody>\n",
       "    <tr>\n",
       "      <th>0</th>\n",
       "      <td>-0.16</td>\n",
       "      <td>-0.35</td>\n",
       "      <td>-0.08</td>\n",
       "      <td>-0.43</td>\n",
       "      <td>-0.28</td>\n",
       "      <td>-0.16</td>\n",
       "      <td>0.13</td>\n",
       "      <td>-0.17</td>\n",
       "      <td>-0.03</td>\n",
       "      <td>0.03</td>\n",
       "      <td>0.26</td>\n",
       "      <td>0.45</td>\n",
       "      <td>0.39</td>\n",
       "      <td>0.72</td>\n",
       "      <td>1.02</td>\n",
       "    </tr>\n",
       "    <tr>\n",
       "      <th>1</th>\n",
       "      <td>-0.08</td>\n",
       "      <td>-0.22</td>\n",
       "      <td>-0.16</td>\n",
       "      <td>-0.44</td>\n",
       "      <td>-0.19</td>\n",
       "      <td>-0.09</td>\n",
       "      <td>0.19</td>\n",
       "      <td>-0.07</td>\n",
       "      <td>0.06</td>\n",
       "      <td>-0.08</td>\n",
       "      <td>0.32</td>\n",
       "      <td>0.40</td>\n",
       "      <td>0.54</td>\n",
       "      <td>0.61</td>\n",
       "      <td>NaN</td>\n",
       "    </tr>\n",
       "    <tr>\n",
       "      <th>2</th>\n",
       "      <td>-0.10</td>\n",
       "      <td>-0.27</td>\n",
       "      <td>-0.28</td>\n",
       "      <td>-0.36</td>\n",
       "      <td>-0.29</td>\n",
       "      <td>-0.16</td>\n",
       "      <td>0.07</td>\n",
       "      <td>0.01</td>\n",
       "      <td>0.03</td>\n",
       "      <td>0.01</td>\n",
       "      <td>0.14</td>\n",
       "      <td>0.22</td>\n",
       "      <td>0.63</td>\n",
       "      <td>0.65</td>\n",
       "      <td>NaN</td>\n",
       "    </tr>\n",
       "    <tr>\n",
       "      <th>3</th>\n",
       "      <td>-0.17</td>\n",
       "      <td>-0.31</td>\n",
       "      <td>-0.37</td>\n",
       "      <td>-0.34</td>\n",
       "      <td>-0.27</td>\n",
       "      <td>-0.28</td>\n",
       "      <td>0.09</td>\n",
       "      <td>0.08</td>\n",
       "      <td>0.05</td>\n",
       "      <td>0.16</td>\n",
       "      <td>0.31</td>\n",
       "      <td>0.23</td>\n",
       "      <td>0.62</td>\n",
       "      <td>0.68</td>\n",
       "      <td>NaN</td>\n",
       "    </tr>\n",
       "    <tr>\n",
       "      <th>4</th>\n",
       "      <td>-0.28</td>\n",
       "      <td>-0.30</td>\n",
       "      <td>-0.47</td>\n",
       "      <td>-0.15</td>\n",
       "      <td>-0.27</td>\n",
       "      <td>-0.12</td>\n",
       "      <td>0.20</td>\n",
       "      <td>-0.13</td>\n",
       "      <td>-0.20</td>\n",
       "      <td>-0.07</td>\n",
       "      <td>0.16</td>\n",
       "      <td>0.32</td>\n",
       "      <td>0.53</td>\n",
       "      <td>0.74</td>\n",
       "      <td>NaN</td>\n",
       "    </tr>\n",
       "    <tr>\n",
       "      <th>5</th>\n",
       "      <td>-0.33</td>\n",
       "      <td>-0.23</td>\n",
       "      <td>-0.27</td>\n",
       "      <td>-0.14</td>\n",
       "      <td>-0.22</td>\n",
       "      <td>-0.20</td>\n",
       "      <td>0.09</td>\n",
       "      <td>-0.14</td>\n",
       "      <td>-0.11</td>\n",
       "      <td>-0.01</td>\n",
       "      <td>0.12</td>\n",
       "      <td>0.45</td>\n",
       "      <td>0.68</td>\n",
       "      <td>0.89</td>\n",
       "      <td>NaN</td>\n",
       "    </tr>\n",
       "    <tr>\n",
       "      <th>6</th>\n",
       "      <td>-0.31</td>\n",
       "      <td>-0.11</td>\n",
       "      <td>-0.23</td>\n",
       "      <td>-0.36</td>\n",
       "      <td>-0.11</td>\n",
       "      <td>-0.15</td>\n",
       "      <td>-0.07</td>\n",
       "      <td>-0.19</td>\n",
       "      <td>-0.06</td>\n",
       "      <td>-0.10</td>\n",
       "      <td>0.18</td>\n",
       "      <td>0.33</td>\n",
       "      <td>0.64</td>\n",
       "      <td>1.01</td>\n",
       "      <td>NaN</td>\n",
       "    </tr>\n",
       "    <tr>\n",
       "      <th>7</th>\n",
       "      <td>-0.36</td>\n",
       "      <td>-0.11</td>\n",
       "      <td>-0.39</td>\n",
       "      <td>-0.46</td>\n",
       "      <td>-0.22</td>\n",
       "      <td>-0.03</td>\n",
       "      <td>-0.03</td>\n",
       "      <td>0.05</td>\n",
       "      <td>-0.02</td>\n",
       "      <td>0.18</td>\n",
       "      <td>0.32</td>\n",
       "      <td>0.46</td>\n",
       "      <td>0.66</td>\n",
       "      <td>0.92</td>\n",
       "      <td>NaN</td>\n",
       "    </tr>\n",
       "    <tr>\n",
       "      <th>8</th>\n",
       "      <td>-0.17</td>\n",
       "      <td>-0.27</td>\n",
       "      <td>-0.43</td>\n",
       "      <td>-0.30</td>\n",
       "      <td>-0.20</td>\n",
       "      <td>0.00</td>\n",
       "      <td>-0.11</td>\n",
       "      <td>0.06</td>\n",
       "      <td>-0.08</td>\n",
       "      <td>0.07</td>\n",
       "      <td>0.39</td>\n",
       "      <td>0.61</td>\n",
       "      <td>0.54</td>\n",
       "      <td>0.85</td>\n",
       "      <td>NaN</td>\n",
       "    </tr>\n",
       "    <tr>\n",
       "      <th>9</th>\n",
       "      <td>-0.11</td>\n",
       "      <td>-0.18</td>\n",
       "      <td>-0.48</td>\n",
       "      <td>-0.28</td>\n",
       "      <td>-0.36</td>\n",
       "      <td>-0.01</td>\n",
       "      <td>-0.11</td>\n",
       "      <td>0.03</td>\n",
       "      <td>0.05</td>\n",
       "      <td>0.16</td>\n",
       "      <td>0.27</td>\n",
       "      <td>0.38</td>\n",
       "      <td>0.66</td>\n",
       "      <td>0.98</td>\n",
       "      <td>NaN</td>\n",
       "    </tr>\n",
       "  </tbody>\n",
       "</table>\n",
       "</div>"
      ],
      "text/plain": [
       "      1880  1890  1900  1910  1920  1930  1940  1950  1960  1970  1980  1990  \\\n",
       "Year                                                                           \n",
       "0    -0.16 -0.35 -0.08 -0.43 -0.28 -0.16  0.13 -0.17 -0.03  0.03  0.26  0.45   \n",
       "1    -0.08 -0.22 -0.16 -0.44 -0.19 -0.09  0.19 -0.07  0.06 -0.08  0.32  0.40   \n",
       "2    -0.10 -0.27 -0.28 -0.36 -0.29 -0.16  0.07  0.01  0.03  0.01  0.14  0.22   \n",
       "3    -0.17 -0.31 -0.37 -0.34 -0.27 -0.28  0.09  0.08  0.05  0.16  0.31  0.23   \n",
       "4    -0.28 -0.30 -0.47 -0.15 -0.27 -0.12  0.20 -0.13 -0.20 -0.07  0.16  0.32   \n",
       "5    -0.33 -0.23 -0.27 -0.14 -0.22 -0.20  0.09 -0.14 -0.11 -0.01  0.12  0.45   \n",
       "6    -0.31 -0.11 -0.23 -0.36 -0.11 -0.15 -0.07 -0.19 -0.06 -0.10  0.18  0.33   \n",
       "7    -0.36 -0.11 -0.39 -0.46 -0.22 -0.03 -0.03  0.05 -0.02  0.18  0.32  0.46   \n",
       "8    -0.17 -0.27 -0.43 -0.30 -0.20  0.00 -0.11  0.06 -0.08  0.07  0.39  0.61   \n",
       "9    -0.11 -0.18 -0.48 -0.28 -0.36 -0.01 -0.11  0.03  0.05  0.16  0.27  0.38   \n",
       "\n",
       "      2000  2010  2020  \n",
       "Year                    \n",
       "0     0.39  0.72  1.02  \n",
       "1     0.54  0.61   NaN  \n",
       "2     0.63  0.65   NaN  \n",
       "3     0.62  0.68   NaN  \n",
       "4     0.53  0.74   NaN  \n",
       "5     0.68  0.89   NaN  \n",
       "6     0.64  1.01   NaN  \n",
       "7     0.66  0.92   NaN  \n",
       "8     0.54  0.85   NaN  \n",
       "9     0.66  0.98   NaN  "
      ]
     },
     "execution_count": 144,
     "metadata": {},
     "output_type": "execute_result"
    }
   ],
   "source": [
    "url='data/bydecade.csv'\n",
    "gwdec = pd.read_csv(url)\n",
    "gwdec=gwdec.set_index('Year')\n",
    "gwdec"
   ]
  },
  {
   "cell_type": "code",
   "execution_count": 145,
   "metadata": {},
   "outputs": [
    {
     "data": {
      "image/png": "[encoded data removed]",
      "text/plain": [
       "<Figure size 432x288 with 1 Axes>"
      ]
     },
     "metadata": {
      "needs_background": "light"
     },
     "output_type": "display_data"
    },
    {
     "data": {
      "image/png": "[encoded data removed]",
      "text/plain": [
       "<Figure size 432x288 with 2 Axes>"
      ]
     },
     "metadata": {
      "needs_background": "light"
     },
     "output_type": "display_data"
    }
   ],
   "source": [
    "fig, ax = plt.subplots()\n",
    "ax.imshow(gwdec)\n",
    "ax.set_xticks(range(len(gwdec.columns)))\n",
    "ax.set_xticklabels(gwdec.columns, rotation=45)\n",
    "plt.show(fig)\n",
    "\n",
    "import seaborn as sns\n",
    "sns.heatmap(gwdec)\n",
    "plt.show()"
   ]
  },
  {
   "cell_type": "markdown",
   "metadata": {},
   "source": [
    "# Scatter plot"
   ]
  },
  {
   "cell_type": "code",
   "execution_count": 146,
   "metadata": {},
   "outputs": [
    {
     "data": {
      "image/png": "[encoded data removed]",
      "text/plain": [
       "<Figure size 432x288 with 1 Axes>"
      ]
     },
     "metadata": {
      "needs_background": "light"
     },
     "output_type": "display_data"
    }
   ],
   "source": [
    "weather =  pd.read_csv('data/london2018.csv')\n",
    "\n",
    "weather.plot.scatter(x='Rain', y='Sun')\n",
    "plt.show()"
   ]
  },
  {
   "cell_type": "markdown",
   "metadata": {},
   "source": [
    "# Line charts"
   ]
  },
  {
   "cell_type": "code",
   "execution_count": 147,
   "metadata": {},
   "outputs": [
    {
     "data": {
      "text/html": [
       "<div>\n",
       "<style scoped>\n",
       "    .dataframe tbody tr th:only-of-type {\n",
       "        vertical-align: middle;\n",
       "    }\n",
       "\n",
       "    .dataframe tbody tr th {\n",
       "        vertical-align: top;\n",
       "    }\n",
       "\n",
       "    .dataframe thead th {\n",
       "        text-align: right;\n",
       "    }\n",
       "</style>\n",
       "<table border=\"1\" class=\"dataframe\">\n",
       "  <thead>\n",
       "    <tr style=\"text-align: right;\">\n",
       "      <th></th>\n",
       "      <th>Year</th>\n",
       "      <th>Month</th>\n",
       "      <th>Tmax</th>\n",
       "      <th>Tmin</th>\n",
       "      <th>Rain</th>\n",
       "      <th>Sun</th>\n",
       "      <th>Tmean</th>\n",
       "    </tr>\n",
       "  </thead>\n",
       "  <tbody>\n",
       "    <tr>\n",
       "      <th>0</th>\n",
       "      <td>2018</td>\n",
       "      <td>1</td>\n",
       "      <td>9.7</td>\n",
       "      <td>3.8</td>\n",
       "      <td>58.0</td>\n",
       "      <td>46.5</td>\n",
       "      <td>6.75</td>\n",
       "    </tr>\n",
       "    <tr>\n",
       "      <th>1</th>\n",
       "      <td>2018</td>\n",
       "      <td>2</td>\n",
       "      <td>6.7</td>\n",
       "      <td>0.6</td>\n",
       "      <td>29.0</td>\n",
       "      <td>92.0</td>\n",
       "      <td>3.65</td>\n",
       "    </tr>\n",
       "    <tr>\n",
       "      <th>2</th>\n",
       "      <td>2018</td>\n",
       "      <td>3</td>\n",
       "      <td>9.8</td>\n",
       "      <td>3.0</td>\n",
       "      <td>81.2</td>\n",
       "      <td>70.3</td>\n",
       "      <td>6.40</td>\n",
       "    </tr>\n",
       "    <tr>\n",
       "      <th>3</th>\n",
       "      <td>2018</td>\n",
       "      <td>4</td>\n",
       "      <td>15.5</td>\n",
       "      <td>7.9</td>\n",
       "      <td>65.2</td>\n",
       "      <td>113.4</td>\n",
       "      <td>11.70</td>\n",
       "    </tr>\n",
       "    <tr>\n",
       "      <th>4</th>\n",
       "      <td>2018</td>\n",
       "      <td>5</td>\n",
       "      <td>20.8</td>\n",
       "      <td>9.8</td>\n",
       "      <td>58.4</td>\n",
       "      <td>248.3</td>\n",
       "      <td>15.30</td>\n",
       "    </tr>\n",
       "    <tr>\n",
       "      <th>5</th>\n",
       "      <td>2018</td>\n",
       "      <td>6</td>\n",
       "      <td>24.2</td>\n",
       "      <td>13.1</td>\n",
       "      <td>0.4</td>\n",
       "      <td>234.5</td>\n",
       "      <td>18.65</td>\n",
       "    </tr>\n",
       "    <tr>\n",
       "      <th>6</th>\n",
       "      <td>2018</td>\n",
       "      <td>7</td>\n",
       "      <td>28.3</td>\n",
       "      <td>16.4</td>\n",
       "      <td>14.8</td>\n",
       "      <td>272.5</td>\n",
       "      <td>22.35</td>\n",
       "    </tr>\n",
       "    <tr>\n",
       "      <th>7</th>\n",
       "      <td>2018</td>\n",
       "      <td>8</td>\n",
       "      <td>24.5</td>\n",
       "      <td>14.5</td>\n",
       "      <td>48.2</td>\n",
       "      <td>182.1</td>\n",
       "      <td>19.50</td>\n",
       "    </tr>\n",
       "    <tr>\n",
       "      <th>8</th>\n",
       "      <td>2018</td>\n",
       "      <td>9</td>\n",
       "      <td>20.9</td>\n",
       "      <td>11.0</td>\n",
       "      <td>29.4</td>\n",
       "      <td>195.0</td>\n",
       "      <td>15.95</td>\n",
       "    </tr>\n",
       "    <tr>\n",
       "      <th>9</th>\n",
       "      <td>2018</td>\n",
       "      <td>10</td>\n",
       "      <td>16.5</td>\n",
       "      <td>8.5</td>\n",
       "      <td>61.0</td>\n",
       "      <td>137.0</td>\n",
       "      <td>12.50</td>\n",
       "    </tr>\n",
       "    <tr>\n",
       "      <th>10</th>\n",
       "      <td>2018</td>\n",
       "      <td>11</td>\n",
       "      <td>12.2</td>\n",
       "      <td>5.8</td>\n",
       "      <td>73.8</td>\n",
       "      <td>72.9</td>\n",
       "      <td>9.00</td>\n",
       "    </tr>\n",
       "    <tr>\n",
       "      <th>11</th>\n",
       "      <td>2018</td>\n",
       "      <td>12</td>\n",
       "      <td>10.7</td>\n",
       "      <td>5.2</td>\n",
       "      <td>60.6</td>\n",
       "      <td>40.3</td>\n",
       "      <td>7.95</td>\n",
       "    </tr>\n",
       "  </tbody>\n",
       "</table>\n",
       "</div>"
      ],
      "text/plain": [
       "    Year  Month  Tmax  Tmin  Rain    Sun  Tmean\n",
       "0   2018      1   9.7   3.8  58.0   46.5   6.75\n",
       "1   2018      2   6.7   0.6  29.0   92.0   3.65\n",
       "2   2018      3   9.8   3.0  81.2   70.3   6.40\n",
       "3   2018      4  15.5   7.9  65.2  113.4  11.70\n",
       "4   2018      5  20.8   9.8  58.4  248.3  15.30\n",
       "5   2018      6  24.2  13.1   0.4  234.5  18.65\n",
       "6   2018      7  28.3  16.4  14.8  272.5  22.35\n",
       "7   2018      8  24.5  14.5  48.2  182.1  19.50\n",
       "8   2018      9  20.9  11.0  29.4  195.0  15.95\n",
       "9   2018     10  16.5   8.5  61.0  137.0  12.50\n",
       "10  2018     11  12.2   5.8  73.8   72.9   9.00\n",
       "11  2018     12  10.7   5.2  60.6   40.3   7.95"
      ]
     },
     "execution_count": 147,
     "metadata": {},
     "output_type": "execute_result"
    }
   ],
   "source": [
    "weather =  pd.read_csv('data/london2018.csv')\n",
    "\n",
    "# Create a mean value\n",
    "weather['Tmean'] = (weather['Tmax'] + weather['Tmin'])/2\n",
    "\n",
    "weather\n"
   ]
  },
  {
   "cell_type": "code",
   "execution_count": 148,
   "metadata": {},
   "outputs": [
    {
     "data": {
      "image/png": "[encoded data removed]",
      "text/plain": [
       "<Figure size 432x288 with 1 Axes>"
      ]
     },
     "metadata": {
      "needs_background": "light"
     },
     "output_type": "display_data"
    }
   ],
   "source": [
    "ax = weather.plot.line(x='Month', y = 'Tmean')\n",
    "plt.show()"
   ]
  },
  {
   "cell_type": "code",
   "execution_count": 149,
   "metadata": {},
   "outputs": [
    {
     "data": {
      "image/png": "[encoded data removed]",
      "text/plain": [
       "<Figure size 432x288 with 1 Axes>"
      ]
     },
     "metadata": {
      "needs_background": "light"
     },
     "output_type": "display_data"
    }
   ],
   "source": [
    "ax = weather.plot.line(x='Month', y = 'Tmean')\n",
    "ax = weather.plot.line(x='Month', y = 'Tmax', color = 'lightgrey', ax=ax)\n",
    "ax = weather.plot.line(x='Month', y = 'Tmin',  color = 'lightgrey', ax=ax)\n",
    "\n",
    "plt.show(fig)"
   ]
  },
  {
   "cell_type": "code",
   "execution_count": 150,
   "metadata": {},
   "outputs": [
    {
     "data": {
      "image/png": "[encoded data removed]",
      "text/plain": [
       "<Figure size 432x288 with 1 Axes>"
      ]
     },
     "metadata": {
      "needs_background": "light"
     },
     "output_type": "display_data"
    }
   ],
   "source": [
    "ax = weather.plot.line(x='Month', y = 'Tmean')\n",
    "ax = weather.plot.line(x='Month', y = 'Tmax', color = 'lightgrey', ax=ax)\n",
    "ax = weather.plot.line(x='Month', y = 'Tmin',  color = 'lightgrey', ax=ax)\n",
    "\n",
    "plt.fill_between(weather['Month'], \n",
    "                 weather['Tmax'],\n",
    "                 weather['Tmin'], \n",
    "                 color='lightgrey')\n",
    "\n",
    "ax.get_legend().set_visible(False)\n",
    "ax.set_ylabel('Temperature Range °C')\n",
    "plt.show(fig)"
   ]
  },
  {
   "cell_type": "markdown",
   "metadata": {},
   "source": [
    "# Slopegraph"
   ]
  },
  {
   "cell_type": "code",
   "execution_count": 151,
   "metadata": {},
   "outputs": [
    {
     "data": {
      "text/html": [
       "<div>\n",
       "<style scoped>\n",
       "    .dataframe tbody tr th:only-of-type {\n",
       "        vertical-align: middle;\n",
       "    }\n",
       "\n",
       "    .dataframe tbody tr th {\n",
       "        vertical-align: top;\n",
       "    }\n",
       "\n",
       "    .dataframe thead th {\n",
       "        text-align: right;\n",
       "    }\n",
       "</style>\n",
       "<table border=\"1\" class=\"dataframe\">\n",
       "  <thead>\n",
       "    <tr style=\"text-align: right;\">\n",
       "      <th></th>\n",
       "      <th>year</th>\n",
       "      <th>London</th>\n",
       "      <th>Wick</th>\n",
       "    </tr>\n",
       "  </thead>\n",
       "  <tbody>\n",
       "    <tr>\n",
       "      <th>0</th>\n",
       "      <td>2012</td>\n",
       "      <td>24.2</td>\n",
       "      <td>14.8</td>\n",
       "    </tr>\n",
       "    <tr>\n",
       "      <th>1</th>\n",
       "      <td>2022</td>\n",
       "      <td>27.2</td>\n",
       "      <td>17.3</td>\n",
       "    </tr>\n",
       "  </tbody>\n",
       "</table>\n",
       "</div>"
      ],
      "text/plain": [
       "   year  London  Wick\n",
       "0  2012    24.2  14.8\n",
       "1  2022    27.2  17.3"
      ]
     },
     "execution_count": 151,
     "metadata": {},
     "output_type": "execute_result"
    }
   ],
   "source": [
    "df = pd.DataFrame()\n",
    "df['year']=[2012,2022]\n",
    "df['London']=(24.2,27.2)\n",
    "df['Wick']=(14.8,17.3)\n",
    "df"
   ]
  },
  {
   "cell_type": "code",
   "execution_count": 152,
   "metadata": {},
   "outputs": [
    {
     "data": {
      "image/png": "[encoded data removed]",
      "text/plain": [
       "<Figure size 432x288 with 1 Axes>"
      ]
     },
     "metadata": {
      "needs_background": "light"
     },
     "output_type": "display_data"
    }
   ],
   "source": [
    "ax = df.plot(x='year', color = ('red', 'blue'))\n",
    "ax = df.plot.scatter(x='year',y='London', color= 'red', ax=ax)\n",
    "df.plot.scatter(x='year',y='Wick', color = 'blue', ax=ax)\n",
    "\n",
    "plt.xlim(2010,2024)\n",
    "plt.xticks(df['year'])\n",
    "ax.set_ylabel('')\n",
    "plt.show()"
   ]
  },
  {
   "cell_type": "code",
   "execution_count": 153,
   "metadata": {},
   "outputs": [
    {
     "data": {
      "image/png": "[encoded data removed]",
      "text/plain": [
       "<Figure size 432x288 with 1 Axes>"
      ]
     },
     "metadata": {
      "needs_background": "light"
     },
     "output_type": "display_data"
    }
   ],
   "source": [
    "ax = df.plot(x='year', color = ('red', 'blue'))\n",
    "ax = df.plot.scatter(x='year',y='London', color= 'red', ax=ax)\n",
    "df.plot.scatter(x='year',y='Wick', color = 'blue', ax=ax)\n",
    "\n",
    "plt.xlim(2010,2024)\n",
    "plt.xticks(df['year'])\n",
    "ax.set_ylabel('')\n",
    "\n",
    "ax.text(df.year[0] -5, df.London[0], df.columns[1])\n",
    "ax.text(df.year[0] -2.5,df.London[0], f'{df.London[0]}°C')\n",
    "ax.text(df.year[1] +1, df.London[1],f'{df.London[1]}°C')\n",
    "ax.text(df.year[0] -5, df.Wick[0], df.columns[2])\n",
    "ax.text(df.year[0] -2.5, df.Wick[0],f'{df.Wick[0]}°C')\n",
    "ax.text(df.year[1] +1, df.Wick[1],f'{df.Wick[1]}°C')\n",
    "\n",
    "ax.spines['right'].set_visible(False)\n",
    "ax.spines['left'].set_visible(False)\n",
    "ax.spines['bottom'].set_visible(False)\n",
    "ax.spines['top'].set_visible(False)\n",
    "\n",
    "ax.xaxis.grid(visible=True, color = 'black')\n",
    "ax.get_yaxis().set_visible(False)\n",
    "\n",
    "ax.get_legend().set_visible(False)\n",
    "\n",
    "plt.show()"
   ]
  },
  {
   "cell_type": "markdown",
   "metadata": {},
   "source": [
    "# Bar charts"
   ]
  },
  {
   "cell_type": "code",
   "execution_count": 154,
   "metadata": {},
   "outputs": [
    {
     "data": {
      "text/html": [
       "<div>\n",
       "<style scoped>\n",
       "    .dataframe tbody tr th:only-of-type {\n",
       "        vertical-align: middle;\n",
       "    }\n",
       "\n",
       "    .dataframe tbody tr th {\n",
       "        vertical-align: top;\n",
       "    }\n",
       "\n",
       "    .dataframe thead th {\n",
       "        text-align: right;\n",
       "    }\n",
       "</style>\n",
       "<table border=\"1\" class=\"dataframe\">\n",
       "  <thead>\n",
       "    <tr style=\"text-align: right;\">\n",
       "      <th></th>\n",
       "      <th>Country</th>\n",
       "      <th>Gold</th>\n",
       "      <th>Silver</th>\n",
       "      <th>Bronze</th>\n",
       "      <th>Total</th>\n",
       "    </tr>\n",
       "  </thead>\n",
       "  <tbody>\n",
       "    <tr>\n",
       "      <th>0</th>\n",
       "      <td>Norway</td>\n",
       "      <td>16</td>\n",
       "      <td>8</td>\n",
       "      <td>13</td>\n",
       "      <td>37</td>\n",
       "    </tr>\n",
       "    <tr>\n",
       "      <th>1</th>\n",
       "      <td>Germany</td>\n",
       "      <td>12</td>\n",
       "      <td>10</td>\n",
       "      <td>5</td>\n",
       "      <td>27</td>\n",
       "    </tr>\n",
       "    <tr>\n",
       "      <th>2</th>\n",
       "      <td>China</td>\n",
       "      <td>9</td>\n",
       "      <td>4</td>\n",
       "      <td>2</td>\n",
       "      <td>15</td>\n",
       "    </tr>\n",
       "    <tr>\n",
       "      <th>3</th>\n",
       "      <td>United States</td>\n",
       "      <td>8</td>\n",
       "      <td>10</td>\n",
       "      <td>7</td>\n",
       "      <td>25</td>\n",
       "    </tr>\n",
       "    <tr>\n",
       "      <th>4</th>\n",
       "      <td>Sweden</td>\n",
       "      <td>8</td>\n",
       "      <td>5</td>\n",
       "      <td>5</td>\n",
       "      <td>18</td>\n",
       "    </tr>\n",
       "  </tbody>\n",
       "</table>\n",
       "</div>"
      ],
      "text/plain": [
       "         Country  Gold  Silver  Bronze  Total\n",
       "0         Norway    16       8      13     37\n",
       "1        Germany    12      10       5     27\n",
       "2          China     9       4       2     15\n",
       "3  United States     8      10       7     25\n",
       "4         Sweden     8       5       5     18"
      ]
     },
     "execution_count": 154,
     "metadata": {},
     "output_type": "execute_result"
    }
   ],
   "source": [
    "medals =  pd.read_csv('data/2022WinterOlympics.csv')\n",
    "medals"
   ]
  },
  {
   "cell_type": "code",
   "execution_count": 155,
   "metadata": {},
   "outputs": [
    {
     "data": {
      "image/png": "[encoded data removed]",
      "text/plain": [
       "<Figure size 432x288 with 1 Axes>"
      ]
     },
     "metadata": {
      "needs_background": "light"
     },
     "output_type": "display_data"
    }
   ],
   "source": [
    "medals.plot.bar(x='Country', y='Total', xlabel='')\n",
    "plt.show()"
   ]
  },
  {
   "cell_type": "code",
   "execution_count": 156,
   "metadata": {},
   "outputs": [
    {
     "data": {
      "image/png": "[encoded data removed]",
      "text/plain": [
       "<Figure size 432x288 with 1 Axes>"
      ]
     },
     "metadata": {
      "needs_background": "light"
     },
     "output_type": "display_data"
    }
   ],
   "source": [
    "medals[medals['Country']=='Norway'].plot.bar(x='Country')\n",
    "plt.show()"
   ]
  },
  {
   "cell_type": "code",
   "execution_count": 157,
   "metadata": {},
   "outputs": [
    {
     "data": {
      "image/png": "[encoded data removed]",
      "text/plain": [
       "<Figure size 432x288 with 1 Axes>"
      ]
     },
     "metadata": {
      "needs_background": "light"
     },
     "output_type": "display_data"
    }
   ],
   "source": [
    "medals.plot.bar(x='Country')\n",
    "plt.show()"
   ]
  },
  {
   "cell_type": "code",
   "execution_count": 158,
   "metadata": {},
   "outputs": [
    {
     "data": {
      "image/png": "[encoded data removed]",
      "text/plain": [
       "<Figure size 432x288 with 1 Axes>"
      ]
     },
     "metadata": {
      "needs_background": "light"
     },
     "output_type": "display_data"
    }
   ],
   "source": [
    "medals.plot.bar(x='Country', y = ['Gold','Silver','Bronze'])\n",
    "plt.show()"
   ]
  },
  {
   "cell_type": "code",
   "execution_count": 159,
   "metadata": {},
   "outputs": [
    {
     "data": {
      "image/png": "[encoded data removed]",
      "text/plain": [
       "<Figure size 432x288 with 1 Axes>"
      ]
     },
     "metadata": {
      "needs_background": "light"
     },
     "output_type": "display_data"
    }
   ],
   "source": [
    "medals.plot.barh(x='Country')\n",
    "plt.show()"
   ]
  },
  {
   "cell_type": "code",
   "execution_count": 160,
   "metadata": {},
   "outputs": [
    {
     "data": {
      "image/png": "[encoded data removed]",
      "text/plain": [
       "<Figure size 432x288 with 1 Axes>"
      ]
     },
     "metadata": {
      "needs_background": "light"
     },
     "output_type": "display_data"
    }
   ],
   "source": [
    "medals.plot.bar(x='Country', y = ['Gold','Silver','Bronze'], stacked = True)\n",
    "plt.show()"
   ]
  },
  {
   "cell_type": "code",
   "execution_count": 161,
   "metadata": {},
   "outputs": [
    {
     "data": {
      "image/png": "[encoded data removed]",
      "text/plain": [
       "<Figure size 432x288 with 1 Axes>"
      ]
     },
     "metadata": {
      "needs_background": "light"
     },
     "output_type": "display_data"
    }
   ],
   "source": [
    "medals.plot.barh(x='Country', y = ['Gold','Silver','Bronze'], stacked = True)\n",
    "plt.show()"
   ]
  },
  {
   "cell_type": "markdown",
   "metadata": {},
   "source": [
    "# Waterfall chart"
   ]
  },
  {
   "cell_type": "code",
   "execution_count": 162,
   "metadata": {},
   "outputs": [],
   "source": [
    "import waterfall_chart\n",
    "from waterfall_ax import WaterfallChart"
   ]
  },
  {
   "cell_type": "code",
   "execution_count": 163,
   "metadata": {},
   "outputs": [],
   "source": [
    "a = ['Beginning HC','Hires','Transfers In','Transfers Out','Exits']\n",
    "b = [100,30,8,-12,-10]"
   ]
  },
  {
   "cell_type": "code",
   "execution_count": 164,
   "metadata": {},
   "outputs": [
    {
     "data": {
      "image/png": "[encoded data removed]",
      "text/plain": [
       "<Figure size 432x288 with 1 Axes>"
      ]
     },
     "metadata": {
      "needs_background": "light"
     },
     "output_type": "display_data"
    }
   ],
   "source": [
    "my_plot = waterfall_chart.plot(a, b, net_label = \"Ending HC\")\n",
    "plt.show()"
   ]
  },
  {
   "cell_type": "code",
   "execution_count": 165,
   "metadata": {},
   "outputs": [
    {
     "data": {
      "image/png": "[encoded data removed]",
      "text/plain": [
       "<Figure size 432x288 with 1 Axes>"
      ]
     },
     "metadata": {
      "needs_background": "light"
     },
     "output_type": "display_data"
    }
   ],
   "source": [
    "my_plot = waterfall_chart.plot(a, b, net_label = \"Ending HC\", \n",
    "                               blue_color='blue',\n",
    "                               red_color='blue', \n",
    "                               green_color='blue')\n",
    "plt.show()"
   ]
  },
  {
   "cell_type": "markdown",
   "metadata": {},
   "source": [
    "# Square Area Chart"
   ]
  },
  {
   "cell_type": "code",
   "execution_count": 166,
   "metadata": {},
   "outputs": [],
   "source": [
    "# construct a 2D array of 0s - total pop\n",
    "import numpy as np\n",
    "a = [0]*100\n",
    "b = np.array(a).reshape((10,10))"
   ]
  },
  {
   "cell_type": "code",
   "execution_count": 167,
   "metadata": {},
   "outputs": [],
   "source": [
    "# add a 2 by 3 rectangle of 1s representing cancer sufferers\n",
    "\n",
    "for i in range(8,10):\n",
    "    for j in range(7,10):\n",
    "        b[i,j] = 1\n",
    "\n",
    "# add a single cell with value 2\n",
    "# representing the number of cancer sufferers \n",
    "# who eat too much bacon\n",
    "b[9,9] = 2"
   ]
  },
  {
   "cell_type": "code",
   "execution_count": 168,
   "metadata": {},
   "outputs": [
    {
     "data": {
      "image/png": "[encoded data removed]",
      "text/plain": [
       "<Figure size 432x288 with 2 Axes>"
      ]
     },
     "metadata": {
      "needs_background": "light"
     },
     "output_type": "display_data"
    }
   ],
   "source": [
    "ax = sns.heatmap(b, \n",
    "            linewidths=0.5, \n",
    "            yticklabels=False,\n",
    "            xticklabels=False, \n",
    "            cmap=['lightblue','royalblue','midnightblue']\n",
    "            )\n",
    "\n",
    "# Customize legend\n",
    "colorbar = ax.collections[0].colorbar \n",
    "colorbar.set_ticks([0.5,1,1.5])\n",
    "colorbar.set_ticklabels(['Cancer-free','Contracted cancer by chance','Contracted cancer and is a Bacon Eater'])\n",
    "\n",
    "ax.set_title('Occurance of Bowel Cancer in a Population')\n",
    "\n",
    "plt.show()\n"
   ]
  },
  {
   "cell_type": "code",
   "execution_count": null,
   "metadata": {},
   "outputs": [],
   "source": []
  },
  {
   "cell_type": "code",
   "execution_count": 15,
   "metadata": {},
   "outputs": [
    {
     "data": {
      "text/plain": [
       "Index(['Year', '1880', '1890', '1900', '1910', '1920', '1930', '1940', '1950',\n",
       "       '1960', '1970', '1980', '1990', '2000', '2010', '2020'],\n",
       "      dtype='object')"
      ]
     },
     "execution_count": 15,
     "metadata": {},
     "output_type": "execute_result"
    }
   ],
   "source": [
    "import pandas as pd\n",
    "import matplotlib.pyplot as plt\n",
    "\n",
    "url='https://raw.githubusercontent.com/alanjones2/12Visuals/main/data/tempbydecade.csv'\n",
    "\n",
    "\n",
    "gwdec = pd.read_csv(url, delimiter=' ')\n",
    "\n",
    "#gwdec=gwdec.set_index('Year')\n",
    "gwdec.columns\n"
   ]
  }
 ],
 "metadata": {
  "kernelspec": {
   "display_name": "Python 3.9.12 ('base')",
   "language": "python",
   "name": "python3"
  },
  "language_info": {
   "codemirror_mode": {
    "name": "ipython",
    "version": 3
   },
   "file_extension": ".py",
   "mimetype": "text/x-python",
   "name": "python",
   "nbconvert_exporter": "python",
   "pygments_lexer": "ipython3",
   "version": "3.9.12"
  },
  "orig_nbformat": 4,
  "vscode": {
   "interpreter": {
    "hash": "55ef930537a79289582a8c4772dca7feed6741df5ffe6806f3919b53fc5d46ec"
   }
  }
 },
 "nbformat": 4,
 "nbformat_minor": 2
}
