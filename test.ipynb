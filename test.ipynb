{
 "cells": [
  {
   "cell_type": "code",
   "execution_count": 1,
   "metadata": {},
   "outputs": [],
   "source": [
    "#! pip install --upgrade plotly"
   ]
  },
  {
   "cell_type": "code",
   "execution_count": 2,
   "metadata": {},
   "outputs": [
    {
     "data": {
      "text/plain": [
       "'\\nimport plotly.express as px\\nimport plotly.graph_objects as go\\n\\n#fig = px.scatter(x=[1, 2, 3], y=[1, 2, 3], template=\"plotly_white\")\\n#fig = px.line(x=[1, 2, 3], y=[1, 2, 3], template=\"plotly_white\")\\n\\nfig = go.Figure()\\n\\nx=[2000, 2020]\\ny=[1,3]\\nfig.add_trace(\\n    go.Scatter(\\n        x=x, y=y,\\n        mode=\"lines\",\\n        line=go.scatter.Line(color=\"gray\"),\\n        showlegend=False)\\n)\\nfig.add_trace(\\n    go.Scatter(\\n        x=x, y=y,\\n        mode=\"markers\",\\n        marker=go.scatter.Marker(color=\"red\", size=15),\\n        showlegend=False,\\n        )\\n)\\n#\\nfig.add_annotation(text=\"Beginning\",\\n                  #xref=\"paper\", yref=\"paper\",\\n                  xref=\"x\", yref=\"y\",\\n                  x=x[0], y=y[0], \\n                  xshift=-50,\\n                  showarrow=False)\\nfig.add_annotation(text=\"End\",\\n                  #xref=\"paper\", yref=\"paper\",\\n                  xref=\"x\", yref=\"y\",\\n                  x=x[1], y=y[1], \\n                  xshift=50,\\n                  align=\\'right\\',\\n                  showarrow=False)\\n\\nfig.update_layout(template=\\'plotly_white\\',\\n                width = 800,\\n                height = 600,\\n                xaxis = dict(tickvals=x,\\n                    showgrid=True,\\n                    showticklabels=True,\\n                    gridwidth=2, \\n                    gridcolor=\\'Black\\',\\n                    fixedrange=True, ),\\n                yaxis = dict(\\n                    showgrid=False,\\n                    showticklabels=False,\\n                    fixedrange=True\\n                ),\\n                \\n)\\n\\nfig.show()\\n'"
      ]
     },
     "execution_count": 2,
     "metadata": {},
     "output_type": "execute_result"
    }
   ],
   "source": [
    "\"\"\"\n",
    "import plotly.express as px\n",
    "import plotly.graph_objects as go\n",
    "\n",
    "#fig = px.scatter(x=[1, 2, 3], y=[1, 2, 3], template=\"plotly_white\")\n",
    "#fig = px.line(x=[1, 2, 3], y=[1, 2, 3], template=\"plotly_white\")\n",
    "\n",
    "fig = go.Figure()\n",
    "\n",
    "x=[2000, 2020]\n",
    "y=[1,3]\n",
    "fig.add_trace(\n",
    "    go.Scatter(\n",
    "        x=x, y=y,\n",
    "        mode=\"lines\",\n",
    "        line=go.scatter.Line(color=\"gray\"),\n",
    "        showlegend=False)\n",
    ")\n",
    "fig.add_trace(\n",
    "    go.Scatter(\n",
    "        x=x, y=y,\n",
    "        mode=\"markers\",\n",
    "        marker=go.scatter.Marker(color=\"red\", size=15),\n",
    "        showlegend=False,\n",
    "        )\n",
    ")\n",
    "#\n",
    "fig.add_annotation(text=\"Beginning\",\n",
    "                  #xref=\"paper\", yref=\"paper\",\n",
    "                  xref=\"x\", yref=\"y\",\n",
    "                  x=x[0], y=y[0], \n",
    "                  xshift=-50,\n",
    "                  showarrow=False)\n",
    "fig.add_annotation(text=\"End\",\n",
    "                  #xref=\"paper\", yref=\"paper\",\n",
    "                  xref=\"x\", yref=\"y\",\n",
    "                  x=x[1], y=y[1], \n",
    "                  xshift=50,\n",
    "                  align='right',\n",
    "                  showarrow=False)\n",
    "\n",
    "fig.update_layout(template='plotly_white',\n",
    "                width = 800,\n",
    "                height = 600,\n",
    "                xaxis = dict(tickvals=x,\n",
    "                    showgrid=True,\n",
    "                    showticklabels=True,\n",
    "                    gridwidth=2, \n",
    "                    gridcolor='Black',\n",
    "                    fixedrange=True, ),\n",
    "                yaxis = dict(\n",
    "                    showgrid=False,\n",
    "                    showticklabels=False,\n",
    "                    fixedrange=True\n",
    "                ),\n",
    "                \n",
    ")\n",
    "\n",
    "fig.show()\n",
    "\"\"\""
   ]
  },
  {
   "cell_type": "code",
   "execution_count": 5,
   "metadata": {},
   "outputs": [
    {
     "data": {
      "application/vnd.plotly.v1+json": {
       "config": {
        "plotlyServerURL": "https://plot.ly"
       },
       "data": [
        {
         "line": {
          "color": "blue"
         },
         "mode": "lines",
         "showlegend": false,
         "type": "scatter",
         "x": [
          2012,
          2022
         ],
         "y": [
          24.2,
          27.2
         ]
        },
        {
         "marker": {
          "color": "red",
          "size": 15
         },
         "mode": "markers",
         "showlegend": false,
         "type": "scatter",
         "x": [
          2012,
          2022
         ],
         "y": [
          24.2,
          27.2
         ]
        },
        {
         "line": {
          "color": "blue"
         },
         "mode": "lines",
         "showlegend": false,
         "type": "scatter",
         "x": [
          2012,
          2022
         ],
         "y": [
          14.8,
          17.3
         ]
        },
        {
         "marker": {
          "color": "red",
          "size": 15
         },
         "mode": "markers",
         "showlegend": false,
         "type": "scatter",
         "x": [
          2012,
          2022
         ],
         "y": [
          14.8,
          17.3
         ]
        }
       ],
       "layout": {
        "annotations": [
         {
          "showarrow": false,
          "text": "London 24.2",
          "x": 2012,
          "xref": "x",
          "xshift": -50,
          "y": 24.2,
          "yref": "y"
         },
         {
          "align": "right",
          "showarrow": false,
          "text": "27.2",
          "x": 2022,
          "xref": "x",
          "xshift": 50,
          "y": 27.2,
          "yref": "y"
         },
         {
          "showarrow": false,
          "text": "Wick 14.8",
          "x": 2012,
          "xref": "x",
          "xshift": -50,
          "y": 14.8,
          "yref": "y"
         },
         {
          "align": "right",
          "showarrow": false,
          "text": "17.3",
          "x": 2022,
          "xref": "x",
          "xshift": 50,
          "y": 17.3,
          "yref": "y"
         }
        ],
        "height": 600,
        "template": {
         "data": {
          "bar": [
           {
            "error_x": {
             "color": "#2a3f5f"
            },
            "error_y": {
             "color": "#2a3f5f"
            },
            "marker": {
             "line": {
              "color": "white",
              "width": 0.5
             },
             "pattern": {
              "fillmode": "overlay",
              "size": 10,
              "solidity": 0.2
             }
            },
            "type": "bar"
           }
          ],
          "barpolar": [
           {
            "marker": {
             "line": {
              "color": "white",
              "width": 0.5
             },
             "pattern": {
              "fillmode": "overlay",
              "size": 10,
              "solidity": 0.2
             }
            },
            "type": "barpolar"
           }
          ],
          "carpet": [
           {
            "aaxis": {
             "endlinecolor": "#2a3f5f",
             "gridcolor": "#C8D4E3",
             "linecolor": "#C8D4E3",
             "minorgridcolor": "#C8D4E3",
             "startlinecolor": "#2a3f5f"
            },
            "baxis": {
             "endlinecolor": "#2a3f5f",
             "gridcolor": "#C8D4E3",
             "linecolor": "#C8D4E3",
             "minorgridcolor": "#C8D4E3",
             "startlinecolor": "#2a3f5f"
            },
            "type": "carpet"
           }
          ],
          "choropleth": [
           {
            "colorbar": {
             "outlinewidth": 0,
             "ticks": ""
            },
            "type": "choropleth"
           }
          ],
          "contour": [
           {
            "colorbar": {
             "outlinewidth": 0,
             "ticks": ""
            },
            "colorscale": [
             [
              0,
              "#0d0887"
             ],
             [
              0.1111111111111111,
              "#46039f"
             ],
             [
              0.2222222222222222,
              "#7201a8"
             ],
             [
              0.3333333333333333,
              "#9c179e"
             ],
             [
              0.4444444444444444,
              "#bd3786"
             ],
             [
              0.5555555555555556,
              "#d8576b"
             ],
             [
              0.6666666666666666,
              "#ed7953"
             ],
             [
              0.7777777777777778,
              "#fb9f3a"
             ],
             [
              0.8888888888888888,
              "#fdca26"
             ],
             [
              1,
              "#f0f921"
             ]
            ],
            "type": "contour"
           }
          ],
          "contourcarpet": [
           {
            "colorbar": {
             "outlinewidth": 0,
             "ticks": ""
            },
            "type": "contourcarpet"
           }
          ],
          "heatmap": [
           {
            "colorbar": {
             "outlinewidth": 0,
             "ticks": ""
            },
            "colorscale": [
             [
              0,
              "#0d0887"
             ],
             [
              0.1111111111111111,
              "#46039f"
             ],
             [
              0.2222222222222222,
              "#7201a8"
             ],
             [
              0.3333333333333333,
              "#9c179e"
             ],
             [
              0.4444444444444444,
              "#bd3786"
             ],
             [
              0.5555555555555556,
              "#d8576b"
             ],
             [
              0.6666666666666666,
              "#ed7953"
             ],
             [
              0.7777777777777778,
              "#fb9f3a"
             ],
             [
              0.8888888888888888,
              "#fdca26"
             ],
             [
              1,
              "#f0f921"
             ]
            ],
            "type": "heatmap"
           }
          ],
          "heatmapgl": [
           {
            "colorbar": {
             "outlinewidth": 0,
             "ticks": ""
            },
            "colorscale": [
             [
              0,
              "#0d0887"
             ],
             [
              0.1111111111111111,
              "#46039f"
             ],
             [
              0.2222222222222222,
              "#7201a8"
             ],
             [
              0.3333333333333333,
              "#9c179e"
             ],
             [
              0.4444444444444444,
              "#bd3786"
             ],
             [
              0.5555555555555556,
              "#d8576b"
             ],
             [
              0.6666666666666666,
              "#ed7953"
             ],
             [
              0.7777777777777778,
              "#fb9f3a"
             ],
             [
              0.8888888888888888,
              "#fdca26"
             ],
             [
              1,
              "#f0f921"
             ]
            ],
            "type": "heatmapgl"
           }
          ],
          "histogram": [
           {
            "marker": {
             "pattern": {
              "fillmode": "overlay",
              "size": 10,
              "solidity": 0.2
             }
            },
            "type": "histogram"
           }
          ],
          "histogram2d": [
           {
            "colorbar": {
             "outlinewidth": 0,
             "ticks": ""
            },
            "colorscale": [
             [
              0,
              "#0d0887"
             ],
             [
              0.1111111111111111,
              "#46039f"
             ],
             [
              0.2222222222222222,
              "#7201a8"
             ],
             [
              0.3333333333333333,
              "#9c179e"
             ],
             [
              0.4444444444444444,
              "#bd3786"
             ],
             [
              0.5555555555555556,
              "#d8576b"
             ],
             [
              0.6666666666666666,
              "#ed7953"
             ],
             [
              0.7777777777777778,
              "#fb9f3a"
             ],
             [
              0.8888888888888888,
              "#fdca26"
             ],
             [
              1,
              "#f0f921"
             ]
            ],
            "type": "histogram2d"
           }
          ],
          "histogram2dcontour": [
           {
            "colorbar": {
             "outlinewidth": 0,
             "ticks": ""
            },
            "colorscale": [
             [
              0,
              "#0d0887"
             ],
             [
              0.1111111111111111,
              "#46039f"
             ],
             [
              0.2222222222222222,
              "#7201a8"
             ],
             [
              0.3333333333333333,
              "#9c179e"
             ],
             [
              0.4444444444444444,
              "#bd3786"
             ],
             [
              0.5555555555555556,
              "#d8576b"
             ],
             [
              0.6666666666666666,
              "#ed7953"
             ],
             [
              0.7777777777777778,
              "#fb9f3a"
             ],
             [
              0.8888888888888888,
              "#fdca26"
             ],
             [
              1,
              "#f0f921"
             ]
            ],
            "type": "histogram2dcontour"
           }
          ],
          "mesh3d": [
           {
            "colorbar": {
             "outlinewidth": 0,
             "ticks": ""
            },
            "type": "mesh3d"
           }
          ],
          "parcoords": [
           {
            "line": {
             "colorbar": {
              "outlinewidth": 0,
              "ticks": ""
             }
            },
            "type": "parcoords"
           }
          ],
          "pie": [
           {
            "automargin": true,
            "type": "pie"
           }
          ],
          "scatter": [
           {
            "fillpattern": {
             "fillmode": "overlay",
             "size": 10,
             "solidity": 0.2
            },
            "type": "scatter"
           }
          ],
          "scatter3d": [
           {
            "line": {
             "colorbar": {
              "outlinewidth": 0,
              "ticks": ""
             }
            },
            "marker": {
             "colorbar": {
              "outlinewidth": 0,
              "ticks": ""
             }
            },
            "type": "scatter3d"
           }
          ],
          "scattercarpet": [
           {
            "marker": {
             "colorbar": {
              "outlinewidth": 0,
              "ticks": ""
             }
            },
            "type": "scattercarpet"
           }
          ],
          "scattergeo": [
           {
            "marker": {
             "colorbar": {
              "outlinewidth": 0,
              "ticks": ""
             }
            },
            "type": "scattergeo"
           }
          ],
          "scattergl": [
           {
            "marker": {
             "colorbar": {
              "outlinewidth": 0,
              "ticks": ""
             }
            },
            "type": "scattergl"
           }
          ],
          "scattermapbox": [
           {
            "marker": {
             "colorbar": {
              "outlinewidth": 0,
              "ticks": ""
             }
            },
            "type": "scattermapbox"
           }
          ],
          "scatterpolar": [
           {
            "marker": {
             "colorbar": {
              "outlinewidth": 0,
              "ticks": ""
             }
            },
            "type": "scatterpolar"
           }
          ],
          "scatterpolargl": [
           {
            "marker": {
             "colorbar": {
              "outlinewidth": 0,
              "ticks": ""
             }
            },
            "type": "scatterpolargl"
           }
          ],
          "scatterternary": [
           {
            "marker": {
             "colorbar": {
              "outlinewidth": 0,
              "ticks": ""
             }
            },
            "type": "scatterternary"
           }
          ],
          "surface": [
           {
            "colorbar": {
             "outlinewidth": 0,
             "ticks": ""
            },
            "colorscale": [
             [
              0,
              "#0d0887"
             ],
             [
              0.1111111111111111,
              "#46039f"
             ],
             [
              0.2222222222222222,
              "#7201a8"
             ],
             [
              0.3333333333333333,
              "#9c179e"
             ],
             [
              0.4444444444444444,
              "#bd3786"
             ],
             [
              0.5555555555555556,
              "#d8576b"
             ],
             [
              0.6666666666666666,
              "#ed7953"
             ],
             [
              0.7777777777777778,
              "#fb9f3a"
             ],
             [
              0.8888888888888888,
              "#fdca26"
             ],
             [
              1,
              "#f0f921"
             ]
            ],
            "type": "surface"
           }
          ],
          "table": [
           {
            "cells": {
             "fill": {
              "color": "#EBF0F8"
             },
             "line": {
              "color": "white"
             }
            },
            "header": {
             "fill": {
              "color": "#C8D4E3"
             },
             "line": {
              "color": "white"
             }
            },
            "type": "table"
           }
          ]
         },
         "layout": {
          "annotationdefaults": {
           "arrowcolor": "#2a3f5f",
           "arrowhead": 0,
           "arrowwidth": 1
          },
          "autotypenumbers": "strict",
          "coloraxis": {
           "colorbar": {
            "outlinewidth": 0,
            "ticks": ""
           }
          },
          "colorscale": {
           "diverging": [
            [
             0,
             "#8e0152"
            ],
            [
             0.1,
             "#c51b7d"
            ],
            [
             0.2,
             "#de77ae"
            ],
            [
             0.3,
             "#f1b6da"
            ],
            [
             0.4,
             "#fde0ef"
            ],
            [
             0.5,
             "#f7f7f7"
            ],
            [
             0.6,
             "#e6f5d0"
            ],
            [
             0.7,
             "#b8e186"
            ],
            [
             0.8,
             "#7fbc41"
            ],
            [
             0.9,
             "#4d9221"
            ],
            [
             1,
             "#276419"
            ]
           ],
           "sequential": [
            [
             0,
             "#0d0887"
            ],
            [
             0.1111111111111111,
             "#46039f"
            ],
            [
             0.2222222222222222,
             "#7201a8"
            ],
            [
             0.3333333333333333,
             "#9c179e"
            ],
            [
             0.4444444444444444,
             "#bd3786"
            ],
            [
             0.5555555555555556,
             "#d8576b"
            ],
            [
             0.6666666666666666,
             "#ed7953"
            ],
            [
             0.7777777777777778,
             "#fb9f3a"
            ],
            [
             0.8888888888888888,
             "#fdca26"
            ],
            [
             1,
             "#f0f921"
            ]
           ],
           "sequentialminus": [
            [
             0,
             "#0d0887"
            ],
            [
             0.1111111111111111,
             "#46039f"
            ],
            [
             0.2222222222222222,
             "#7201a8"
            ],
            [
             0.3333333333333333,
             "#9c179e"
            ],
            [
             0.4444444444444444,
             "#bd3786"
            ],
            [
             0.5555555555555556,
             "#d8576b"
            ],
            [
             0.6666666666666666,
             "#ed7953"
            ],
            [
             0.7777777777777778,
             "#fb9f3a"
            ],
            [
             0.8888888888888888,
             "#fdca26"
            ],
            [
             1,
             "#f0f921"
            ]
           ]
          },
          "colorway": [
           "#636efa",
           "#EF553B",
           "#00cc96",
           "#ab63fa",
           "#FFA15A",
           "#19d3f3",
           "#FF6692",
           "#B6E880",
           "#FF97FF",
           "#FECB52"
          ],
          "font": {
           "color": "#2a3f5f"
          },
          "geo": {
           "bgcolor": "white",
           "lakecolor": "white",
           "landcolor": "white",
           "showlakes": true,
           "showland": true,
           "subunitcolor": "#C8D4E3"
          },
          "hoverlabel": {
           "align": "left"
          },
          "hovermode": "closest",
          "mapbox": {
           "style": "light"
          },
          "paper_bgcolor": "white",
          "plot_bgcolor": "white",
          "polar": {
           "angularaxis": {
            "gridcolor": "#EBF0F8",
            "linecolor": "#EBF0F8",
            "ticks": ""
           },
           "bgcolor": "white",
           "radialaxis": {
            "gridcolor": "#EBF0F8",
            "linecolor": "#EBF0F8",
            "ticks": ""
           }
          },
          "scene": {
           "xaxis": {
            "backgroundcolor": "white",
            "gridcolor": "#DFE8F3",
            "gridwidth": 2,
            "linecolor": "#EBF0F8",
            "showbackground": true,
            "ticks": "",
            "zerolinecolor": "#EBF0F8"
           },
           "yaxis": {
            "backgroundcolor": "white",
            "gridcolor": "#DFE8F3",
            "gridwidth": 2,
            "linecolor": "#EBF0F8",
            "showbackground": true,
            "ticks": "",
            "zerolinecolor": "#EBF0F8"
           },
           "zaxis": {
            "backgroundcolor": "white",
            "gridcolor": "#DFE8F3",
            "gridwidth": 2,
            "linecolor": "#EBF0F8",
            "showbackground": true,
            "ticks": "",
            "zerolinecolor": "#EBF0F8"
           }
          },
          "shapedefaults": {
           "line": {
            "color": "#2a3f5f"
           }
          },
          "ternary": {
           "aaxis": {
            "gridcolor": "#DFE8F3",
            "linecolor": "#A2B1C6",
            "ticks": ""
           },
           "baxis": {
            "gridcolor": "#DFE8F3",
            "linecolor": "#A2B1C6",
            "ticks": ""
           },
           "bgcolor": "white",
           "caxis": {
            "gridcolor": "#DFE8F3",
            "linecolor": "#A2B1C6",
            "ticks": ""
           }
          },
          "title": {
           "x": 0.05
          },
          "xaxis": {
           "automargin": true,
           "gridcolor": "#EBF0F8",
           "linecolor": "#EBF0F8",
           "ticks": "",
           "title": {
            "standoff": 15
           },
           "zerolinecolor": "#EBF0F8",
           "zerolinewidth": 2
          },
          "yaxis": {
           "automargin": true,
           "gridcolor": "#EBF0F8",
           "linecolor": "#EBF0F8",
           "ticks": "",
           "title": {
            "standoff": 15
           },
           "zerolinecolor": "#EBF0F8",
           "zerolinewidth": 2
          }
         }
        },
        "width": 800,
        "xaxis": {
         "fixedrange": true,
         "gridcolor": "Black",
         "gridwidth": 2,
         "showgrid": true,
         "showticklabels": true,
         "tickvals": [
          2012,
          2022
         ]
        },
        "yaxis": {
         "fixedrange": true,
         "showgrid": false,
         "showticklabels": false
        }
       }
      }
     },
     "metadata": {},
     "output_type": "display_data"
    }
   ],
   "source": [
    "\n",
    "import plotly.graph_objects as go\n",
    "import pandas as pd\n",
    "\n",
    "df = pd.DataFrame()\n",
    "df['year']=[2012,2022]\n",
    "df['London']=(24.2,27.2)\n",
    "df['Wick']=(14.8,17.3)\n",
    "\n",
    "x = df['year']\n",
    "y = df['London']\n",
    "y2= df['Wick']\n",
    "\n",
    "fig = go.Figure()\n",
    "\n",
    "\n",
    "fig.add_trace(\n",
    "    go.Scatter(\n",
    "        x=x, y=y,\n",
    "        mode=\"lines\",\n",
    "        line=go.scatter.Line(color=\"blue\"),\n",
    "        showlegend=False)\n",
    ")\n",
    "fig.add_trace(\n",
    "    go.Scatter(\n",
    "        x=x, y=y,\n",
    "        mode=\"markers\",\n",
    "        marker=go.scatter.Marker(color=\"red\", size=15),\n",
    "        showlegend=False,\n",
    "        )\n",
    ")\n",
    "\n",
    "\n",
    "\n",
    "fig.add_annotation(text=f\"{df.columns[1]} {df[df.columns[1]][0]}\",\n",
    "                  #xref=\"paper\", yref=\"paper\",\n",
    "                  xref=\"x\", yref=\"y\",\n",
    "                  x=x[0], y=y[0], \n",
    "                  xshift=-50,\n",
    "                  showarrow=False)\n",
    "fig.add_annotation(text=f\"{df[df.columns[1]][1]}\",\n",
    "                  #xref=\"paper\", yref=\"paper\",\n",
    "                  xref=\"x\", yref=\"y\",\n",
    "                  x=x[1], y=y[1], \n",
    "                  xshift=50,\n",
    "                  align='right',\n",
    "                  showarrow=False)\n",
    "\n",
    "fig.add_trace(\n",
    "    go.Scatter(\n",
    "        x=x, y=y2,\n",
    "        mode=\"lines\",\n",
    "        line=go.scatter.Line(color=\"blue\"),\n",
    "        showlegend=False)\n",
    ")\n",
    "fig.add_trace(\n",
    "    go.Scatter(\n",
    "        x=x, y=y2,\n",
    "        mode=\"markers\",\n",
    "        marker=go.scatter.Marker(color=\"red\", size=15),\n",
    "        showlegend=False,\n",
    "        )\n",
    ")\n",
    "\n",
    "fig.add_annotation(text=f\"{df.columns[2]} {df[df.columns[2]][0]}\",\n",
    "                  #xref=\"paper\", yref=\"paper\",\n",
    "                  xref=\"x\", yref=\"y\",\n",
    "                  x=x[0], y=y2[0], \n",
    "                  xshift=-50,\n",
    "                  showarrow=False)\n",
    "fig.add_annotation(text=f\"{df[df.columns[2]][1]}\",\n",
    "                  #xref=\"paper\", yref=\"paper\",\n",
    "                  xref=\"x\", yref=\"y\",\n",
    "                  x=x[1], y=y2[1], \n",
    "                  xshift=50,\n",
    "                  align='right',\n",
    "                  showarrow=False)\n",
    "\n",
    "fig.update_layout(template='plotly_white',\n",
    "                width = 800,\n",
    "                height = 600,\n",
    "                xaxis = dict(tickvals=x,\n",
    "                    showgrid=True,\n",
    "                    showticklabels=True,\n",
    "                    gridwidth=2, \n",
    "                    gridcolor='Black',\n",
    "                    fixedrange=True, ),\n",
    "                yaxis = dict(\n",
    "                    showgrid=False,\n",
    "                    showticklabels=False,\n",
    "                    fixedrange=True\n",
    "                ),\n",
    "                \n",
    ")\n",
    "\n",
    "fig.show()\n",
    "\n",
    "\n"
   ]
  }
 ],
 "metadata": {
  "kernelspec": {
   "display_name": "base",
   "language": "python",
   "name": "python3"
  },
  "language_info": {
   "codemirror_mode": {
    "name": "ipython",
    "version": 3
   },
   "file_extension": ".py",
   "mimetype": "text/x-python",
   "name": "python",
   "nbconvert_exporter": "python",
   "pygments_lexer": "ipython3",
   "version": "3.11.4"
  }
 },
 "nbformat": 4,
 "nbformat_minor": 2
}
